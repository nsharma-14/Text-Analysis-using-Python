{
 "cells": [
  {
   "cell_type": "code",
   "execution_count": 58,
   "id": "1b555136-9968-45a2-b6fc-0643bd77edfb",
   "metadata": {},
   "outputs": [],
   "source": [
    "from bs4 import BeautifulSoup\n",
    "import requests\n",
    "import pandas as pd"
   ]
  },
  {
   "cell_type": "code",
   "execution_count": 100,
   "id": "8c0334c5-f425-45f2-af6c-760b968c5b4a",
   "metadata": {
    "tags": []
   },
   "outputs": [],
   "source": [
    "# url = 'https://www.forums.red/p/whereareallthegoodmen/322567/female_pickup_artist_says_don_t_kiss_men_for_the_first_3_mon'\n",
    "# url = 'https://www.forums.red/p/whereareallthegoodmen/322564/2_kids_by_different_men_and_she_has_herpes_anyone_interested'\n",
    "# url = 'https://www.forums.red/p/theredpill/322559/og_content_repost_mallardcove_you_re_not_her_top_option_ec'\n",
    "# url = \"https://www.forums.red/p/whereareallthegoodmen/322558/what_if_the_common_denominator_in_these_failed_relationships\"\n",
    "# url = \"https://www.forums.red/p/whereareallthegoodmen/322556/multimillionaire_soccer_player_divorced_because_he_was_too_p\"\n",
    "#url = \"https://www.forums.red/p/asktrp/322562/how_to_proceed_with_girl_im_interested_in_ltr_with\"\n",
    "# url = \"https://www.forums.red/p/asktrp/322560/girl_s_values_how_much_do_weight\"\n",
    "# url = \"https://www.forums.red/p/asktrp/322555/racial_theory\"\n",
    "# url = \"https://www.forums.red/p/asktrp/322553/fwb_wanted_sexual_exclusivity_while_fucking_i_agreed_i_could\"\n",
    "# url = \"https://www.forums.red/p/asktrp/322548/38_male_wants_to_walk_out_of_my_marriage_either_by_divorce_o\"\n",
    "# url = \"https://www.forums.red/p/asktrp/322543/i_still_don_t_understand_why_females_choose_the_gangster_sty\"\n",
    "# url = \"https://www.forums.red/p/theredpill/322559/og_content_repost_mallardcove_you_re_not_her_top_option_ec\"\n",
    "# url = \"https://www.forums.red/p/asktrp/322541/how_to_stop_pedstalizing_attractive_girls\"\n",
    "# url = \"https://www.forums.red/p/asktrp/322540/losing_virginity_to_escort\"\n",
    "# url = \"https://www.forums.red/p/asktrp/322535/why_do_women_want_men_to_work_for_them\"\n",
    "# url = \"https://www.forums.red/p/asktrp/322534/my_fr_with_a_post_wall_wanting_to_monkeybranch_woman_is_it\"\n",
    "# url = \"https://www.forums.red/p/asktrp/322530/why_would_my_ex_fwb_lie_about_being_single_when_she_had_a_bo\"\n",
    "# url = \"https://www.forums.red/p/asktrp/322528/out_of_curiosity_can_trp_knowledge_be_used_to_estimate_what\"\n",
    "# url = \"https://www.forums.red/p/asktrp/322525/i_m_really_getting_offended_now_how_does_anyone_become_frien\"\n",
    "# url = \"https://www.forums.red/p/asktrp/322518/do_you_guys_recommend_acting_sex_positive_with_a_woman_you_a\"\n",
    "# url = \"https://www.forums.red/p/asktrp/322514/change_occupation_to_have_more_social_interactions_and_more\"\n",
    "# url = \"https://www.forums.red/p/asktrp/322513/if_a_girl_mentions_she_is_like_a_little_girl_3_times_does_th\"\n",
    "# url = \"https://www.forums.red/p/theredpill/322502/man_sues_50_females_for_defamation_after_getting_defamed_on\"\n",
    "# url = \"https://www.forums.red/p/asktrp/322500/how_can_i_stop_putting_the_focus_on_women\"\n",
    "# url = \"https://www.forums.red/p/whereareallthegoodmen/322492/single_mommy_needs_a_place_to_live_and_right_away\"\n",
    "# url = \"https://www.forums.red/p/asktrp/322489/can_preselection_backfire_if_you_want_to_be_exclusive_with_a\"\n",
    "# url = \"https://www.forums.red/p/whereareallthegoodmen/322474/it_s_time_that_society_starts_to_recognize_that_career_women\"\n",
    "\n",
    "\n",
    "response = requests.get(url)\n",
    "\n",
    "soup = BeautifulSoup(response.text, 'html.parser')\n",
    "\n",
    "page_text = soup.get_text()\n",
    "\n",
    "comment_blocks = soup.find_all(class_='childcomment')\n",
    "\n",
    "for comment_block in comment_blocks:\n",
    "    # Find all <p> tags within the current comment block\n",
    "    paragraphs = comment_block.find_all('p')\n",
    "    pd.DataFrame([paragraph.get_text() for paragraph in paragraphs]).to_csv(\"comments.csv\", mode='a', index=False, header=False)"
   ]
  },
  {
   "cell_type": "code",
   "execution_count": null,
   "id": "da3d63c2-93e8-4bc3-bb17-33393306efa7",
   "metadata": {},
   "outputs": [],
   "source": []
  }
 ],
 "metadata": {
  "kernelspec": {
   "display_name": "Python 3 (ipykernel)",
   "language": "python",
   "name": "python3"
  },
  "language_info": {
   "codemirror_mode": {
    "name": "ipython",
    "version": 3
   },
   "file_extension": ".py",
   "mimetype": "text/x-python",
   "name": "python",
   "nbconvert_exporter": "python",
   "pygments_lexer": "ipython3",
   "version": "3.9.7"
  }
 },
 "nbformat": 4,
 "nbformat_minor": 5
}
